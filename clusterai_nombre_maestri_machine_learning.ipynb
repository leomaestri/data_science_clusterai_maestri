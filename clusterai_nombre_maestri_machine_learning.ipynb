{
 "cells": [
  {
   "cell_type": "markdown",
   "metadata": {},
   "source": [
    "<h1><center>Modelo Clasificador de Comunas</center></h1>"
   ]
  },
  {
   "cell_type": "markdown",
   "metadata": {},
   "source": [
    "#### Decidimos crear un modelo supervisado clasificador que prediga como salida la comuna a la que pertenece una lista semanal de pesajes  que ingresa como entrada. \n",
    "#### Nuestra hipotesis es que las comunas tienen combinaciones distintas de distribuciones para cada pesaje, lo que les otorga una cualidad unica para, en caso de detectarla, poder predecir de que comuna es una lista semanal de pesajes."
   ]
  },
  {
   "cell_type": "markdown",
   "metadata": {},
   "source": [
    "#### Realizamos un Filtrado de Outliers, para que nuestro modelo no este sesgado por anomalías. Como vimos en el EDA lo más optimo seria filtrar los outliers de cada comuna por separado ya que hay grandes diferencias entre cada una y queremos que nuestro modelo pueda percibir estas diferencias para poder clasificarlas"
   ]
  },
  {
   "cell_type": "code",
   "execution_count": 4,
   "metadata": {},
   "outputs": [],
   "source": [
    "import numpy as np\n",
    "import pandas as pd\n",
    "import matplotlib.pyplot as plt\n",
    "import seaborn as sns\n",
    "import functools as ft\n",
    "from sklearn import preprocessing\n",
    "from sklearn.model_selection import train_test_split, cross_val_score, GridSearchCV\n",
    "from sklearn.metrics import accuracy_score, roc_curve, auc, confusion_matrix\n",
    "from sklearn.neighbors import KNeighborsClassifier\n",
    "from sklearn import svm, datasets\n",
    "from sklearn.svm import SVC\n",
    "from sklearn.linear_model import LogisticRegression\n",
    "import warnings; warnings.filterwarnings('ignore')"
   ]
  },
  {
   "cell_type": "code",
   "execution_count": 5,
   "metadata": {},
   "outputs": [],
   "source": [
    "filename = r'C:\\Users\\leoma\\Notebooks\\TP2019\\pesajes_nulos.csv'\n",
    "pesajes = pd.read_csv(filename, delimiter=';', decimal='.')"
   ]
  },
  {
   "cell_type": "code",
   "execution_count": 6,
   "metadata": {},
   "outputs": [],
   "source": [
    "# Traducimos las comunas a solamente un numero\n",
    "\n",
    "comunas_distintas_Pesajes = ['COMUNA 1', 'COMUNA 2', 'COMUNA 3', 'COMUNA 4', 'COMUNA 5', 'COMUNA 6', 'COMUNA 7','COMUNA 8',\n",
    "                             'COMUNA 9', 'COMUNA 10', 'COMUNA 11', 'COMUNA 12', 'COMUNA 13', 'COMUNA 14', 'COMUNA 15']\n",
    "for i in range (1,16):\n",
    "    pesajes.loc[ pesajes['COMUNA'] == comunas_distintas_Pesajes[i-1], 'COMUNA'] = i"
   ]
  },
  {
   "cell_type": "code",
   "execution_count": 7,
   "metadata": {},
   "outputs": [
    {
     "name": "stdout",
     "output_type": "stream",
     "text": [
      "Luego de filtrar los outliers de cada comuna me quedo con 2180 filas\n"
     ]
    }
   ],
   "source": [
    "## Obtenemos los percentiles 97 de cada pesaje y filtro mi dataset por cada uno\n",
    "\n",
    "quantile = 0.97\n",
    "pesajes2 = pesajes.head(0).copy()\n",
    "for comuna in range(1,16):\n",
    "    pesajes2 = pd.concat([pesajes2,pesajes.loc[pesajes['COMUNA'] == comuna].loc[(pesajes.loc[pesajes['COMUNA'] == comuna]['VIDRIO'] < pesajes.loc[pesajes['COMUNA'] == comuna]['VIDRIO'].quantile(quantile)) &\n",
    "                          (pesajes.loc[pesajes['COMUNA'] == comuna]['PAPEL_Y_CARTON'] < pesajes.loc[pesajes['COMUNA'] == comuna]['PAPEL_Y_CARTON'].quantile(quantile)) &\n",
    "                          (pesajes.loc[pesajes['COMUNA'] == comuna]['METAL'] < pesajes.loc[pesajes['COMUNA'] == comuna]['METAL'].quantile(quantile)) &\n",
    "                          (pesajes.loc[pesajes['COMUNA'] == comuna]['TELGOPOR'] < pesajes.loc[pesajes['COMUNA'] == comuna]['TELGOPOR'].quantile(quantile)) &\n",
    "                          (pesajes.loc[pesajes['COMUNA'] == comuna]['TETRA_BRICK'] < pesajes.loc[pesajes['COMUNA'] == comuna]['TETRA_BRICK'].quantile(quantile)) &\n",
    "                          (pesajes.loc[pesajes['COMUNA'] == comuna]['PLASTICOS_TODOS_LOS_DEMAS'] < pesajes.loc[pesajes['COMUNA'] == comuna]['PLASTICOS_TODOS_LOS_DEMAS'].quantile(quantile))]])\n",
    "pesajes = pesajes2\n",
    "print(f\"Luego de filtrar los outliers de cada comuna me quedo con {np.shape(pesajes2)[0]} filas\")"
   ]
  },
  {
   "cell_type": "code",
   "execution_count": 9,
   "metadata": {},
   "outputs": [],
   "source": [
    "## Separamos el dataset en X (entrada) Y (salida a predecir)\n",
    "\n",
    "x = pesajes.iloc[:,2:] \n",
    "y = pesajes.iloc[:,1]"
   ]
  },
  {
   "cell_type": "code",
   "execution_count": 10,
   "metadata": {},
   "outputs": [],
   "source": [
    "## Separamos las entradas y salidas en Train y Test para realizar el metodo Cross Validation\n",
    "\n",
    "xtrain, xtest, ytrain, ytest = train_test_split(x, y, test_size=0.3, random_state=4)"
   ]
  },
  {
   "cell_type": "code",
   "execution_count": 11,
   "metadata": {},
   "outputs": [],
   "source": [
    "## Realizamos feature selection filtrando por el desvio y cuantil del train\n",
    "\n",
    "# Umbral para definir con que % de features nos quedamos\n",
    "thresh = 0.2\n",
    "\n",
    "Features_Seleccionadas = (np.std(xtrain)>np.quantile(np.std(xtrain), thresh)).values\n",
    "Features_Seleccionadas[0:2] = True # Dejo las fechas \n",
    "xtrain = xtrain.iloc[:,Features_Seleccionadas]\n",
    "xtest = xtest.iloc[:,Features_Seleccionadas]"
   ]
  },
  {
   "cell_type": "code",
   "execution_count": 12,
   "metadata": {},
   "outputs": [
    {
     "name": "stdout",
     "output_type": "stream",
     "text": [
      "La cantidad de Features seleccionadas son 8\n"
     ]
    }
   ],
   "source": [
    "print(\"La cantidad de Features seleccionadas son \" + str(np.shape(xtrain)[1]))"
   ]
  },
  {
   "cell_type": "code",
   "execution_count": 14,
   "metadata": {},
   "outputs": [
    {
     "data": {
      "text/plain": [
       "StandardScaler(copy=True, with_mean=True, with_std=True)"
      ]
     },
     "execution_count": 14,
     "metadata": {},
     "output_type": "execute_result"
    }
   ],
   "source": [
    "## Autoescalamos los datos usando StandardScaler\n",
    "\n",
    "scaler = preprocessing.StandardScaler().fit(xtrain)\n",
    "scaler"
   ]
  },
  {
   "cell_type": "code",
   "execution_count": 15,
   "metadata": {},
   "outputs": [
    {
     "name": "stdout",
     "output_type": "stream",
     "text": [
      "[-1.78245652e-13  3.95780685e-17  2.91015210e-17  2.16515316e-16\n",
      " -8.03201978e-17  7.79920762e-17 -2.22917651e-16  1.87413795e-16]\n",
      "[1. 1. 1. 1. 1. 1. 1. 1.]\n"
     ]
    }
   ],
   "source": [
    "## xtrain_scal tendra el dataset de train pre-procesado con el standard scaler\n",
    "xtrain_scal = scaler.transform(xtrain)\n",
    "\n",
    "## para cada feature imprimimos la media y el desvio standard obtenido.\n",
    "# Veo que me queda media casi 0 y desvío 1\n",
    "print(xtrain_scal.mean(axis=0))\n",
    "print(xtrain_scal.std(axis=0))"
   ]
  },
  {
   "cell_type": "code",
   "execution_count": 16,
   "metadata": {},
   "outputs": [
    {
     "name": "stdout",
     "output_type": "stream",
     "text": [
      "[-0.01436736  0.02132154  0.04576303  0.01279938  0.07673745  0.07072054\n",
      "  0.02109963  0.0575069 ]\n",
      "[0.99648467 0.9646341  1.05402779 0.9611118  1.02766422 1.03855096\n",
      " 0.99146679 1.01974099]\n"
     ]
    }
   ],
   "source": [
    "## Utilizando el scaler ajustado a los datos de train, aplicamos el scaler a los \n",
    "# datos de test. Obtenemos \"xtest_scal\" \n",
    "\n",
    "xtest_scal = scaler.transform(xtest)\n",
    "\n",
    "# Veo que me quedan media y desvío muy cercanos a 0 y 1 ya que no fueron ajustados con Test\n",
    "print(xtest_scal.mean(axis=0))\n",
    "print(xtest_scal.std(axis=0))"
   ]
  },
  {
   "cell_type": "markdown",
   "metadata": {},
   "source": [
    "### Creamos un modelo evaluando 3 algorimos de clasificación distintos: KNN, SVM y Logistic Regresion"
   ]
  },
  {
   "cell_type": "markdown",
   "metadata": {},
   "source": [
    "### K-nearest neighbors"
   ]
  },
  {
   "cell_type": "code",
   "execution_count": 17,
   "metadata": {},
   "outputs": [],
   "source": [
    "## Realizo un ciclo de pruba para buscar cual es la cantidad de vecinos mas efectiva\n",
    "#  para el modelo. Creo un vector de 50 posiciones para guardar los resultados de accuracy.\n",
    "\n",
    "iteraciones_knn = 50\n",
    "acc_knn = np.zeros(iteraciones_knn)\n",
    "\n",
    "for r in range(0,iteraciones_knn):\n",
    "    neigh = KNeighborsClassifier(n_neighbors=r+1)\n",
    "    neigh.fit(xtrain_scal,ytrain)\n",
    "    ypred_knn = neigh.predict(xtest_scal)\n",
    "    acc_knn[r] = accuracy_score(ytest, ypred_knn)"
   ]
  },
  {
   "cell_type": "code",
   "execution_count": 18,
   "metadata": {},
   "outputs": [
    {
     "data": {
      "image/png": "[encoded data removed]",
      "text/plain": [
       "<Figure size 432x288 with 1 Axes>"
      ]
     },
     "metadata": {
      "needs_background": "light"
     },
     "output_type": "display_data"
    }
   ],
   "source": [
    "## Imprimimos en pantalla el accuracy para cada valor de K\n",
    "\n",
    "plt.plot(acc_knn)\n",
    "plt.xlabel(\"valor de K\")\n",
    "plt.ylabel(\"Variación de accuracy utilizando distintos K)\")\n",
    "plt.show()"
   ]
  },
  {
   "cell_type": "code",
   "execution_count": 19,
   "metadata": {},
   "outputs": [],
   "source": [
    "## Defino modelo KNN de 5 vecinos\n",
    "\n",
    "neigh = KNeighborsClassifier(n_neighbors=5)"
   ]
  },
  {
   "cell_type": "code",
   "execution_count": 20,
   "metadata": {},
   "outputs": [
    {
     "data": {
      "text/plain": [
       "KNeighborsClassifier(algorithm='auto', leaf_size=30, metric='minkowski',\n",
       "                     metric_params=None, n_jobs=None, n_neighbors=5, p=2,\n",
       "                     weights='uniform')"
      ]
     },
     "execution_count": 20,
     "metadata": {},
     "output_type": "execute_result"
    }
   ],
   "source": [
    "## Ajusto mi modelo a las muestras de training utilizando tanto Xtrain como Ytrain\n",
    "\n",
    "neigh.fit(xtrain_scal, ytrain) "
   ]
  },
  {
   "cell_type": "code",
   "execution_count": 21,
   "metadata": {},
   "outputs": [],
   "source": [
    "## Genero predicciones entrenado para las muestras de Test, utilizando solo Xtest\n",
    "\n",
    "ypred = neigh.predict(xtest_scal)"
   ]
  },
  {
   "cell_type": "code",
   "execution_count": 22,
   "metadata": {},
   "outputs": [
    {
     "name": "stdout",
     "output_type": "stream",
     "text": [
      "El accuracy es 0.44495412844036697\n"
     ]
    }
   ],
   "source": [
    "## Computo el accuracy (comparar ytest vs ypred)\n",
    "\n",
    "test_acc = accuracy_score(ytest, ypred)\n",
    "print(\"El accuracy es \" + str(test_acc))"
   ]
  },
  {
   "cell_type": "code",
   "execution_count": 23,
   "metadata": {},
   "outputs": [
    {
     "data": {
      "image/png": "[encoded data removed]",
      "text/plain": [
       "<Figure size 360x360 with 2 Axes>"
      ]
     },
     "metadata": {
      "needs_background": "light"
     },
     "output_type": "display_data"
    }
   ],
   "source": [
    "# Computo la matriz de confusión y la visualizo con un Heatmap\n",
    "\n",
    "cm = confusion_matrix(ytest, ypred)\n",
    "\n",
    "df_cm = pd.DataFrame(cm, index = [i for i in np.unique(y)], columns = [i for i in np.unique(y)])\n",
    "plt.figure(figsize = (5,5))\n",
    "sns.heatmap(df_cm, annot=True, cmap=\"YlGnBu\")\n",
    "plt.show()"
   ]
  },
  {
   "cell_type": "markdown",
   "metadata": {},
   "source": [
    "### Support Vector Machines"
   ]
  },
  {
   "cell_type": "code",
   "execution_count": 24,
   "metadata": {},
   "outputs": [],
   "source": [
    "## Realizamos un GridSearch usando SVM con kernel gaussiano y Cross Validation de 10 Folds\n",
    "\n",
    "parameters = [{'kernel': ['rbf'], 'gamma': [0.01,0.1,1,10],'C': [1,3,5,10]}]\n",
    "\n",
    "# Creamos el modelo\n",
    "svc = svm.SVC()\n",
    "\n",
    "# Definimos el GridSearch con los parametros elegidos\n",
    "clf = GridSearchCV(svc, param_grid = parameters, refit = True, cv = 10)\n",
    "clf.fit(xtrain_scal, ytrain.ravel())\n",
    "scores = clf.cv_results_"
   ]
  },
  {
   "cell_type": "code",
   "execution_count": 25,
   "metadata": {},
   "outputs": [
    {
     "name": "stdout",
     "output_type": "stream",
     "text": [
      "Los mejores parametros son {'C': 3, 'gamma': 1, 'kernel': 'rbf'} con un puntaje de 0.48\n"
     ]
    }
   ],
   "source": [
    "print(\"Los mejores parametros son %s con un puntaje de %0.2f\" %(clf.best_params_, clf.best_score_))"
   ]
  },
  {
   "cell_type": "code",
   "execution_count": 26,
   "metadata": {},
   "outputs": [
    {
     "name": "stdout",
     "output_type": "stream",
     "text": [
      "Se obtuvo una accuracy de 0.5091743119266054\n"
     ]
    }
   ],
   "source": [
    "# Predecimos las muestras de test\n",
    "y_pred=clf.predict(xtest_scal) \n",
    "print(f\"Se obtuvo una accuracy de {clf.score(xtest_scal,ytest.ravel())}\")"
   ]
  },
  {
   "cell_type": "code",
   "execution_count": 27,
   "metadata": {},
   "outputs": [
    {
     "data": {
      "image/png": "[encoded data removed]",
      "text/plain": [
       "<Figure size 360x360 with 2 Axes>"
      ]
     },
     "metadata": {
      "needs_background": "light"
     },
     "output_type": "display_data"
    }
   ],
   "source": [
    "# Computo la matriz de confusión y la visualizo con un Heatmap\n",
    "\n",
    "cm = confusion_matrix(ytest, y_pred)\n",
    "\n",
    "df_cm = pd.DataFrame(cm, index = [i for i in np.unique(y)],columns = [i for i in np.unique(y)])\n",
    "plt.figure(figsize = (5,5))\n",
    "sns.heatmap(df_cm, annot=True, cmap=\"YlGnBu\")\n",
    "plt.show()"
   ]
  },
  {
   "cell_type": "markdown",
   "metadata": {},
   "source": [
    "### Logistic Regression"
   ]
  },
  {
   "cell_type": "code",
   "execution_count": 28,
   "metadata": {},
   "outputs": [],
   "source": [
    "## Creo el modelo de regresion logistica\n",
    "\n",
    "lr_model = LogisticRegression(random_state=42, solver='lbfgs')"
   ]
  },
  {
   "cell_type": "code",
   "execution_count": 29,
   "metadata": {},
   "outputs": [
    {
     "name": "stdout",
     "output_type": "stream",
     "text": [
      "El accuracy es 0.3333333333333333\n"
     ]
    }
   ],
   "source": [
    "## Entreno el modelo\n",
    "lr_model.fit(xtrain_scal, ytrain) \n",
    "\n",
    "# Genero predicciones con mi modelo entrenado para las muestras de Test, utilizando solo Xtest\n",
    "ypred = lr_model.predict(xtest_scal)\n",
    "\n",
    "# Computo el accuracy (comparar ytest vs ypred)\n",
    "test_acc2 = accuracy_score(ytest, ypred)\n",
    "print(\"El accuracy es \" + str(test_acc2))"
   ]
  },
  {
   "cell_type": "code",
   "execution_count": 30,
   "metadata": {},
   "outputs": [
    {
     "data": {
      "image/png": "[encoded data removed]",
      "text/plain": [
       "<Figure size 360x360 with 2 Axes>"
      ]
     },
     "metadata": {
      "needs_background": "light"
     },
     "output_type": "display_data"
    }
   ],
   "source": [
    "# Computo la matriz de confusión y la visualizo con un Heatmap\n",
    "\n",
    "cm = confusion_matrix(ytest, y_pred)\n",
    "df_cm = pd.DataFrame(cm, index = [i for i in np.unique(y)], columns = [i for i in np.unique(y)])\n",
    "plt.figure(figsize = (5,5))\n",
    "sns.heatmap(df_cm, annot=True, cmap=\"YlGnBu\")\n",
    "plt.show()"
   ]
  },
  {
   "cell_type": "markdown",
   "metadata": {},
   "source": [
    "## El mejor modelo predictivo lo conseguimos usando SVM con Costo 3 y un Kernel Gaussiano de gamma 1. Logramos una Accuracy del 50% para predecir entre 15 etiquetas distintas que representan las 15 comunas."
   ]
  }
 ],
 "metadata": {
  "kernelspec": {
   "display_name": "Python 3",
   "language": "python",
   "name": "python3"
  },
  "language_info": {
   "codemirror_mode": {
    "name": "ipython",
    "version": 3
   },
   "file_extension": ".py",
   "mimetype": "text/x-python",
   "name": "python",
   "nbconvert_exporter": "python",
   "pygments_lexer": "ipython3",
   "version": "3.7.3"
  }
 },
 "nbformat": 4,
 "nbformat_minor": 2
}
